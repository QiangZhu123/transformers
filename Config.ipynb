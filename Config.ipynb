{
 "cells": [
  {
   "cell_type": "markdown",
   "id": "a61dd8a5",
   "metadata": {},
   "source": [
    "# benchmark"
   ]
  },
  {
   "cell_type": "code",
   "execution_count": null,
   "id": "f2f2e32e",
   "metadata": {},
   "outputs": [],
   "source": [
    "from transformers.benchmark.benchmark import PyTorchBenchmark\n",
    "from transformers.benchmark.benchmark_args import PyTorchBenchmarkArguments\n",
    "\n",
    "args=PyTorchBenchmarkArguments()\n",
    "args.models.append('mode_name')\n",
    "test = PyTorchBenchmark(args=args)\n",
    "#一定要有encoder？不知道是什么，暂时不能用\n",
    "test.run()"
   ]
  },
  {
   "cell_type": "code",
   "execution_count": null,
   "id": "a94f1f90",
   "metadata": {},
   "outputs": [],
   "source": [
    "from transformers import AutoConfig\n",
    "#  string  ---->>   ModelConfig\n",
    "#有两种模式,区别在于是否要加载预训练的模型，需要id2label的字典\n",
    "config = AutoConfig.for_model('albert-base-v1')\n",
    "#config = AutoConfig.from_pretrained('albert-base-v1')\n",
    "#https://huggingface.co/albert-xxlarge-v2/testmodel/resolve/main/config.json\n",
    "#     'albert-xxlarge-v2/testmodel'\n",
    "#config = AutoConfig.from_pretrained('D:/桌面/huggingface.co_google_mobilenet_v1_1.0_224_resolve_main_config.json')#包含类别信息"
   ]
  },
  {
   "cell_type": "markdown",
   "id": "129080b9",
   "metadata": {},
   "source": [
    "# 自定义模型\n",
    "    就当作字典类，把模型的参数全部放进去就行了"
   ]
  },
  {
   "cell_type": "code",
   "execution_count": 1,
   "id": "3b5aceb5",
   "metadata": {},
   "outputs": [],
   "source": [
    "from transformers.configuration_utils import PretrainedConfig"
   ]
  },
  {
   "cell_type": "code",
   "execution_count": null,
   "id": "ba321294",
   "metadata": {},
   "outputs": [],
   "source": [
    "#可以下载的模型参数json文件，用  ALL_PRETRAINED_CONFIG_ARCHIVE_MAP  进行映射，会被移除\n",
    "MODELNAME_PRETRAINED_CONFIG_ARCHIVE_MAP={   \n",
    "                                                        模型名称字符串\n",
    "\"facebook/xlm-roberta-xxl\": \"https://huggingface.co/facebook/xlm-roberta-xxl/resolve/main/config.json\",\n",
    "}\n",
    "\n",
    "class ModelConfig(PretrainedConfig):\n",
    "    model_type = \"xlm-roberta-xxl\"#用来索引对应模块的\n",
    "    \n",
    "    def __init__(self,param):\n",
    "        super().__init__(param)\n",
    "        self.name=param\n",
    "        self.other = oher\n",
    "        \n",
    "class ModelOnnxConfig(OnnxConfig):\n",
    "    #用于onnx模型导出的参数\n",
    "    @property\n",
    "    def inputs(self) -> Mapping[str, Mapping[int, str]]:\n",
    "        dynamic_axis = {0: \"batch\", 1: \"sequence\"}\n",
    "        return OrderedDict(\n",
    "            [\n",
    "                (\"input_ids\", dynamic_axis),\n",
    "                (\"attention_mask\", dynamic_axis),\n",
    "                (\"token_type_ids\", dynamic_axis),\n",
    "            ]\n",
    "        )"
   ]
  },
  {
   "cell_type": "code",
   "execution_count": null,
   "id": "108dab92",
   "metadata": {},
   "outputs": [],
   "source": [
    "#主要是用这个函数下载 参数文件\n",
    "from transformers.utils import cached_file\n",
    "config = cached_file('albert-xlarge-v2','config.json')"
   ]
  },
  {
   "cell_type": "markdown",
   "id": "f83bbbe5",
   "metadata": {},
   "source": [
    "# 源码解读"
   ]
  },
  {
   "cell_type": "code",
   "execution_count": null,
   "id": "0ec04b17",
   "metadata": {},
   "outputs": [],
   "source": [
    "Autoconfig不能实例化，只能使用类方法映射\n",
    "    for_model：\n",
    "    from_pretrained：cached_file下载文件后，传给对应的参数类，就是每个模型对应的参数类\n",
    "    \n",
    "                AlbertConfig\n",
    "\n",
    "albert  --》》 ALBERT_PRETRAINED_CONFIG_ARCHIVE_MAP ----》》config.json\n",
    "                \n",
    "                ALBERT\n",
    "    "
   ]
  },
  {
   "cell_type": "code",
   "execution_count": null,
   "id": "811a876a",
   "metadata": {},
   "outputs": [],
   "source": [
    "PretrainedConfig：基类，直接当作一个字典处理，也可以直接转化为一个字典\n",
    "    "
   ]
  }
 ],
 "metadata": {
  "kernelspec": {
   "display_name": "Python 3 (ipykernel)",
   "language": "python",
   "name": "python3"
  },
  "language_info": {
   "codemirror_mode": {
    "name": "ipython",
    "version": 3
   },
   "file_extension": ".py",
   "mimetype": "text/x-python",
   "name": "python",
   "nbconvert_exporter": "python",
   "pygments_lexer": "ipython3",
   "version": "3.10.0"
  }
 },
 "nbformat": 4,
 "nbformat_minor": 5
}
