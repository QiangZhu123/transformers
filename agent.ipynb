{
 "cells": [
  {
   "cell_type": "markdown",
   "id": "b452174e",
   "metadata": {},
   "source": [
    "### 分为四个部分\n",
    "    an LLM to power your agent - the agent is not exactly the LLM, it’s more like the agent is a program that uses an LLM as its engine.\n",
    "    \n",
    "    a system prompt: what the LLM engine will be prompted with to generate its output\n",
    "    \n",
    "    a toolbox from which the agent pick tools to execute\n",
    "    \n",
    "    a parser to extract from the LLM output which tools are to call and with which arguments \n",
    "## 可分成两类\n",
    "\n",
    "    Code agent\n",
    "    React agents"
   ]
  },
  {
   "cell_type": "markdown",
   "id": "c949640b",
   "metadata": {},
   "source": [
    "pip install transformers[agents]"
   ]
  },
  {
   "cell_type": "code",
   "execution_count": 1,
   "id": "e009440a",
   "metadata": {},
   "outputs": [],
   "source": [
    "#这里的LLM可以是任何模型，只要它满足\n",
    "#it follows the messages format for its input (List[Dict[str, str]]) and returns a str\n",
    "#it stops generating outputs at the sequences passed in the argument stop"
   ]
  },
  {
   "cell_type": "code",
   "execution_count": null,
   "id": "106b763a",
   "metadata": {},
   "outputs": [],
   "source": [
    "from huggingface_hub import login, InferenceClient\n",
    "\n",
    "login(\"<YOUR_HUGGINGFACEHUB_API_TOKEN>\")\n",
    "\n",
    "client = InferenceClient(model=\"meta-llama/Meta-Llama-3-70B-Instruct\")\n",
    "\n",
    "def llm_engine(messages, stop_sequences=[\"Task\"]) -> str:\n",
    "    response = client.chat_completion(messages, stop=stop_sequences, max_tokens=1000)\n",
    "    answer = response.choices[0].message.content\n",
    "    return answer"
   ]
  },
  {
   "cell_type": "code",
   "execution_count": null,
   "id": "f7ce835a",
   "metadata": {},
   "outputs": [],
   "source": [
    "from transformers import CodeAgent, HfEngine\n",
    "your_custom_prompt=''\n",
    "llm_engine = HfEngine(model=\"meta-llama/Meta-Llama-3-70B-Instruct\")\n",
    "agent = CodeAgent(tools=[],#这个可以是空，没有后续工具\n",
    "                  llm_engine=llm_engine,#这个是语言模型，有默认模型\n",
    "                  add_base_tools=True,\n",
    "                 system_prompt=\"{your_custom_prompt}\"#整体任务的描述\n",
    "                 )\n",
    "\n",
    "agent.run(\n",
    "    \"Could you translate this sentence from French, say it out loud and return the audio.\",\n",
    "    sentence=\"Où est la boulangerie la plus proche?\",\n",
    ")"
   ]
  },
  {
   "cell_type": "code",
   "execution_count": null,
   "id": "67321e9b",
   "metadata": {},
   "outputs": [],
   "source": [
    "#tool :实现了__call__ "
   ]
  },
  {
   "cell_type": "code",
   "execution_count": null,
   "id": "c36fbc0a",
   "metadata": {},
   "outputs": [],
   "source": [
    "#自定义tool\n",
    "from transformers import Tool\n",
    "from huggingface_hub import list_models\n",
    "\n",
    "#下面5个东西都要有\n",
    "class HFModelDownloadsTool(Tool):\n",
    "    name = \"model_download_counter\"\n",
    "    description = (\n",
    "        \"This is a tool that returns the most downloaded model of a given task on the Hugging Face Hub. \"\n",
    "        \"It returns the name of the checkpoint.\"\n",
    "    )\n",
    "\n",
    "    inputs = {\n",
    "        \"task\": {\n",
    "            \"type\": \"text\",\n",
    "            \"description\": \"the task category (such as text-classification, depth-estimation, etc)\",\n",
    "        }\n",
    "    }\n",
    "    output_type = \"text\"\n",
    "\n",
    "    def forward(self, task: str):\n",
    "        model = next(iter(list_models(filter=task, sort=\"downloads\", direction=-1)))\n",
    "        return model.id"
   ]
  },
  {
   "cell_type": "code",
   "execution_count": null,
   "id": "c28bf9a7",
   "metadata": {},
   "outputs": [],
   "source": [
    "agent.toolbox.add_tool(model_download_tool)"
   ]
  },
  {
   "cell_type": "code",
   "execution_count": null,
   "id": "b3b5b94c",
   "metadata": {},
   "outputs": [],
   "source": []
  },
  {
   "cell_type": "code",
   "execution_count": null,
   "id": "4e02e623",
   "metadata": {},
   "outputs": [],
   "source": []
  }
 ],
 "metadata": {
  "kernelspec": {
   "display_name": "Python 3 (ipykernel)",
   "language": "python",
   "name": "python3"
  },
  "language_info": {
   "codemirror_mode": {
    "name": "ipython",
    "version": 3
   },
   "file_extension": ".py",
   "mimetype": "text/x-python",
   "name": "python",
   "nbconvert_exporter": "python",
   "pygments_lexer": "ipython3",
   "version": "3.10.0"
  }
 },
 "nbformat": 4,
 "nbformat_minor": 5
}
