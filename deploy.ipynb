{
 "cells": [
  {
   "cell_type": "code",
   "execution_count": null,
   "id": "6ac9f2cb",
   "metadata": {},
   "outputs": [],
   "source": [
    "from transformers import AutoModelForImageClassification\n",
    "from transformers import AutoProcessor\n",
    "from transformers.onnx import export\n",
    "from transformers import AutoConfig\n",
    "from transformers import ViltProcessor, ViltForImagesAndTextClassification\n",
    "from transformers import AutoImageProcessor, ViTForMaskedImageModeling\n",
    "#onnx参数用的就是每个模型参数下面的onnx参数类\n",
    "from transformers.models.vit.configuration_vit import ViTOnnxConfig,ViTConfig\n",
    "from pathlib import Path"
   ]
  },
  {
   "cell_type": "code",
   "execution_count": 4,
   "id": "eec50cf1",
   "metadata": {},
   "outputs": [],
   "source": [
    "image_processor = AutoImageProcessor.from_pretrained(\"google/vit-base-patch16-224-in21k\")\n",
    "model = ViTForMaskedImageModeling.from_pretrained(\"google/vit-base-patch16-224-in21k\")\n",
    "cfg = AutoConfig.from_pretrained(\"google/vit-base-patch16-224-in21k\")"
   ]
  },
  {
   "cell_type": "code",
   "execution_count": null,
   "id": "ef8f2e29",
   "metadata": {},
   "outputs": [],
   "source": [
    "export(preprocessor=image_processor,model=model,\n",
    "       config=ViTOnnxConfig(cfg),\n",
    "       output=Path('/kaggle/working/test/test.onnx'),opset=13)"
   ]
  },
  {
   "cell_type": "code",
   "execution_count": null,
   "id": "c4a97c62",
   "metadata": {},
   "outputs": [],
   "source": []
  }
 ],
 "metadata": {
  "kernelspec": {
   "display_name": "Python 3 (ipykernel)",
   "language": "python",
   "name": "python3"
  },
  "language_info": {
   "codemirror_mode": {
    "name": "ipython",
    "version": 3
   },
   "file_extension": ".py",
   "mimetype": "text/x-python",
   "name": "python",
   "nbconvert_exporter": "python",
   "pygments_lexer": "ipython3",
   "version": "3.10.0"
  }
 },
 "nbformat": 4,
 "nbformat_minor": 5
}
