{
 "cells": [
  {
   "cell_type": "markdown",
   "id": "0266b0b0",
   "metadata": {},
   "source": [
    "# MODEL\n",
    "    ! pip install -U git+https://github.com/huggingface/transformers.git\n",
    "    ! pip install -U git+https://github.com/huggingface/accelerate.git"
   ]
  },
  {
   "cell_type": "code",
   "execution_count": null,
   "id": "f92d24ec",
   "metadata": {},
   "outputs": [],
   "source": [
    "#AutoModel只是模型的主干部分，不包含头，不是模型的整体\n",
    "from transformers import AutoModel\n",
    "\n",
    "#分成两种模式\n",
    "#model =AutoModel.from_config(config)#传入上面实例化的参数，要看cofig文件里面、\n",
    "model = AutolModel.from_pretrained('albert-xlarge-v1')#--》AlbertModel ,eval()模式\n",
    "#   ModelConfig ---->>> Model"
   ]
  },
  {
   "cell_type": "code",
   "execution_count": 17,
   "id": "55c54073",
   "metadata": {},
   "outputs": [],
   "source": [
    "#AutoModelForXXX  才是整体的模型，一个模型可能会服务多个任务，都有独自的类，区别是损失的计算\n",
    "#自动映射到对应的模型\n",
    "from transformers import AutoModelForPreTraining,AutoModelForSequenceClassification\n",
    "#分两种模式\n",
    "#model  = AutoModelForPreTraining.from_config(config)\n",
    "#model =AutoModelForSequenceClassification.from_config(config)\n",
    "model = transformers.AutoModelForImageClassification.from_pretrained('microsoft/resnet-50',config=config,ignore_mismatched_sizes=True)"
   ]
  },
  {
   "cell_type": "code",
   "execution_count": null,
   "id": "2267878a",
   "metadata": {},
   "outputs": [],
   "source": [
    "# 在模型文件中，模型的特定大小由ALBERT_PRETRAINED_MODEL_ARCHIVE_LIST 来决定"
   ]
  },
  {
   "cell_type": "markdown",
   "id": "7a6b3d34",
   "metadata": {},
   "source": [
    "# 自定义模型\n"
   ]
  },
  {
   "cell_type": "code",
   "execution_count": 2,
   "id": "a4db7d8b",
   "metadata": {},
   "outputs": [],
   "source": [
    "from transformers.modeling_utils import PreTrainedModel\n",
    "from transformers.utils import ModelOutput\n",
    "from dataclasses import dataclass"
   ]
  },
  {
   "cell_type": "code",
   "execution_count": null,
   "id": "1172e919",
   "metadata": {},
   "outputs": [],
   "source": [
    "\n",
    "#实现模型的所有组件模块，直接继承nn.Module即可\n",
    "\n",
    "#制作该模型的输出类\n",
    "#每个模块都配有一个输出类，都是继承ModelOutput，看模型分几个部分，自定义\n",
    "@dataclass\n",
    "class ModuleForPreTrainingOutput(ModelOutput):\n",
    "    loss: Optional[torch.FloatTensor] = None\n",
    "    prediction_logits: torch.FloatTensor = None\n",
    "    sop_logits: torch.FloatTensor = None\n",
    "    hidden_states: Optional[Tuple[torch.FloatTensor]] = None\n",
    "    attentions: Optional[Tuple[torch.FloatTensor]] = None\n",
    "        \n",
    "#PreTrainedModel 中做了大量的实例化工作，包括量化\n",
    "class XmodPreTrainedModel(PreTrainedModel)\n",
    "    #首先写一个父类，用来初始化模型\n",
    "    def _init_weights(self, module):\n",
    "        \"\"\"Initialize the weights.\"\"\"\n",
    "        if isinstance(module, nn.Linear):\n",
    "            module.weight.data.normal_(mean=0.0, std=self.config.initializer_range)\n",
    "            if module.bias is not None:\n",
    "                module.bias.data.zero_()\n",
    "        elif isinstance(module, nn.Embedding):\n",
    "            module.weight.data.normal_(mean=0.0, std=self.config.initializer_range)\n",
    "            if module.padding_idx is not None:\n",
    "                module.weight.data[module.padding_idx].zero_()\n",
    "        elif isinstance(module, nn.LayerNorm):\n",
    "            module.bias.data.zero_()\n",
    "            module.weight.data.fill_(1.0)   \n",
    "\n",
    "#这个是模型主干\n",
    "class XmodModel(XmodPreTrainedModel):\n",
    "\n",
    "    #再写一个组建函数，把所有的模块组建在一起,就是模型的forward\n",
    "    def __init__(self, config: AlbertConfig):\n",
    "        super().__init__(config)\n",
    "        \n",
    "        self.config = config\n",
    "        \n",
    "        self.module = module(config)\n",
    "        \n",
    "        self.post_init()\n",
    "        \n",
    "    def forward(self,\n",
    "        pixel_values: torch.FloatTensor = None,\n",
    "        output_hidden_states: Optional[bool] = None,\n",
    "        return_dict: Optional[bool] = None,#可以选择输出是什么类型\n",
    "):\n",
    "        output = calc(**inputs)\n",
    "        \n",
    "        if not return_dict:\n",
    "            return (sequence_output, pooled_output) + encoder_outputs[1:]\n",
    "        \n",
    "        return BaseModuleOutput(output)#这个也要实现输出类\n",
    "\n",
    "#这个是具体任务的模型,需要计算损失和解码的部分，包含头\n",
    "class XmodForSequenceClassification(XmodPreTrainedModel)\n",
    "    #最后的整合各个组建的类\n",
    "    #forward要计算出loss，再对结果进行包装,取出loss可以使用 output['loss']\n",
    "    def __init__(self, config: AlbertConfig):\n",
    "        super().__init__(config)\n",
    "        \n",
    "        self.backbone=Backbone()\n",
    "        \n",
    "        self.model = XmodModel()\n",
    "        self.head = Head()\n",
    "        self.post_init()\n",
    "    def forward(self,\n",
    "        pixel_values: torch.FloatTensor = None,\n",
    "        labels: Optional[torch.LongTensor] = None,\n",
    "        output_hidden_states: Optional[bool] = None,\n",
    "        return_dict: Optional[bool] = None,):\n",
    "        return_dict = return_dict if return_dict is not None else self.config.use_return_dict\n",
    "\n",
    "        outputs = self.model(\n",
    "            input_ids,\n",
    "            attention_mask=attention_mask,\n",
    "            token_type_ids=token_type_ids,\n",
    "            position_ids=position_ids,\n",
    "            head_mask=head_mask,\n",
    "            inputs_embeds=inputs_embeds,\n",
    "            output_attentions=output_attentions,\n",
    "            output_hidden_states=output_hidden_states,\n",
    "            return_dict=return_dict,\n",
    "        )\n",
    "        \n",
    "        #计算出损失\n",
    "        total_loss=None\n",
    "        if labels is not None:\n",
    "            total_loss= self.head(outputs,labels)\n",
    "        \n",
    "        if not return_dict:\n",
    "            output = (prediction_scores, sop_scores) + outputs[2:]\n",
    "            return ((total_loss,) + output) if total_loss is not None else output\n",
    "\n",
    "        return AlbertForPreTrainingOutput(\n",
    "            loss=total_loss,#如果没有给定标签，就是None\n",
    "            prediction_logits=prediction_scores,#预测的结果\n",
    "            sop_logits=sop_scores,\n",
    "            hidden_states=outputs.hidden_states,\n",
    "            attentions=outputs.attentions,\n",
    "        )\n"
   ]
  },
  {
   "cell_type": "code",
   "execution_count": null,
   "id": "14d0c490",
   "metadata": {},
   "outputs": [],
   "source": [
    "PeftAdapterMixin：\n",
    "     PEFT library调参库，对大语言模型，只要微调小部分参数即可\n",
    "\n",
    "PushToHubMixin：\n",
    "    push a model/tokenizer to the hub\n",
    "    push_to_hub函数\n",
    "    \n",
    "GenerationMixin：\n",
    "    auto-regressive text generation\n",
    "    generate函数\n",
    "    \n",
    "ModuleUtilsMixin:\n",
    "    nn.Module的补充部分"
   ]
  },
  {
   "cell_type": "markdown",
   "id": "7dccb182",
   "metadata": {},
   "source": [
    "所有的Auto模块都是完成“字符串到类的映射”，之后调用映射类中的from_pretrained完成实例化\n",
    "\n",
    "_BaseAutoModelClass：所有模块的基类\n",
    "    _model_mapping：字典映射，把字符串映射为对应的模块\n",
    "\n",
    "    只有3个方法，强调所有继承这个的子模型，都只能用这三个方法\n",
    "    from_config：\n",
    "    from_pretrained：\n",
    "    register："
   ]
  },
  {
   "cell_type": "code",
   "execution_count": null,
   "id": "e6a76e33",
   "metadata": {},
   "outputs": [],
   "source": [
    "\n",
    "            AlbertModel\n",
    "\n",
    "            AlbertForPreTraining\n",
    "\n",
    "            AlbertForMaskedLM\n",
    "    \n",
    "albert----》AlbertForSequenceClassification\n",
    "        \n",
    "            AlbertForQuestionAnswering\n",
    "            \n",
    "            AlbertForTokenClassification\n",
    "            \n",
    "            AlbertForMultipleChoice"
   ]
  },
  {
   "cell_type": "code",
   "execution_count": null,
   "id": "5256e42d",
   "metadata": {},
   "outputs": [],
   "source": [
    "Trainer 的方法让模型必须实现outputs = model(**inputs)返回损失字典"
   ]
  },
  {
   "cell_type": "code",
   "execution_count": null,
   "id": "c45f40de",
   "metadata": {},
   "outputs": [],
   "source": []
  }
 ],
 "metadata": {
  "kernelspec": {
   "display_name": "Python 3 (ipykernel)",
   "language": "python",
   "name": "python3"
  },
  "language_info": {
   "codemirror_mode": {
    "name": "ipython",
    "version": 3
   },
   "file_extension": ".py",
   "mimetype": "text/x-python",
   "name": "python",
   "nbconvert_exporter": "python",
   "pygments_lexer": "ipython3",
   "version": "3.10.0"
  }
 },
 "nbformat": 4,
 "nbformat_minor": 5
}
